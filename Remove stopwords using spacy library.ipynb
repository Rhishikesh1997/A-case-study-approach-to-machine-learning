{
 "cells": [
  {
   "cell_type": "markdown",
   "metadata": {},
   "source": [
    "# How to install spacy library in python"
   ]
  },
  {
   "cell_type": "code",
   "execution_count": 61,
   "metadata": {},
   "outputs": [],
   "source": [
    " #pip install -U spacy"
   ]
  },
  {
   "cell_type": "markdown",
   "metadata": {},
   "source": [
    "### download language model"
   ]
  },
  {
   "cell_type": "code",
   "execution_count": 62,
   "metadata": {},
   "outputs": [],
   "source": [
    "#python -m spacy download en"
   ]
  },
  {
   "cell_type": "markdown",
   "metadata": {},
   "source": [
    "# Import Libraries"
   ]
  },
  {
   "cell_type": "code",
   "execution_count": 22,
   "metadata": {},
   "outputs": [],
   "source": [
    "from nltk.tokenize import word_tokenize\n",
    "import spacy"
   ]
  },
  {
   "cell_type": "code",
   "execution_count": 31,
   "metadata": {},
   "outputs": [],
   "source": [
    "sp = spacy.load('en')"
   ]
  },
  {
   "cell_type": "code",
   "execution_count": 32,
   "metadata": {},
   "outputs": [],
   "source": [
    "allstopwords = sp.Defaults.stop_words\n",
    "\n",
    "text = \"Hello everyone, welcome all to my youtube channel statistics and data science please subscribe it and hit the bell icon and also share it\"\n",
    "tokenized_text = word_tokenize(text)\n",
    "tokens_without_stopwords= [word for word in tokenized_text if not word in allstopwords]\n",
    "\n"
   ]
  },
  {
   "cell_type": "code",
   "execution_count": 25,
   "metadata": {},
   "outputs": [
    {
     "name": "stdout",
     "output_type": "stream",
     "text": [
      "[',', 'welcome', 'youtube', 'channel', 'statistics', 'data', 'science', 'subscribe', 'hit', 'bell', 'icon', 'share']\n"
     ]
    }
   ],
   "source": [
    "print(tokens_without_stopwords)"
   ]
  },
  {
   "cell_type": "code",
   "execution_count": 26,
   "metadata": {},
   "outputs": [
    {
     "name": "stdout",
     "output_type": "stream",
     "text": [
      "327\n",
      "{'fifty', 'several', 'one', 'but', 'wherever', 'become', 'whether', 'hereafter', 'among', 'except', '’m', 'that', 'full', 'though', 'afterwards', 'his', 'same', 'top', 'get', '’ll', 'part', 'nobody', 'quite', 'nowhere', 'however', 'make', 'neither', 'say', 'everywhere', 'show', 'therefore', 'call', 'besides', 'such', 'might', 'both', 'also', 'herein', 'somewhere', 'more', 'whence', 'done', 'whereupon', 'as', 'last', 'although', 'latter', 'up', 'are', \"'ve\", 'hence', 'often', 'own', 'other', 'others', '‘d', 'whereby', 'together', 'next', 'will', 'hers', 'can', 'not', 'serious', 'whose', 'most', 'wherein', \"'s\", 'less', 'forty', 'various', '‘ll', 'our', 'beforehand', 'elsewhere', 'he', 'hundred', 'below', 'fifteen', 'either', 'front', 'him', 'eight', 'until', 'what', 'while', 'well', 'she', 'ca', 'yourself', 'always', 'becoming', 'everyone', 'became', '‘m', 'only', 'about', 'mostly', 'us', 'did', 'six', 'whatever', 'no', 'you', 'and', 'when', 'nine', 'down', 'them', 'may', 'almost', 'your', 'if', 'rather', 'least', 'four', 'indeed', 'beyond', 'else', 'does', 'please', 'thereupon', 'really', 'the', 'thus', 'ten', 'on', 'anywhere', 'nor', 'two', 'formerly', 'ever', 'onto', 'had', 'everything', 'doing', 'some', 'where', 'five', 'take', 'around', 'yours', 'much', 'per', 'anything', 'am', 'why', 'sixty', 'from', 'within', 'eleven', 'another', 'back', 'through', 'whole', 'himself', 'upon', 'perhaps', 'therein', 'otherwise', 'so', \"'m\", 'seemed', '’s', 'whenever', 'towards', 'yet', 'hereupon', 'again', 'n’t', 'nothing', 'latterly', 'already', 'just', 'made', 'side', 'seems', 'which', 'would', 'or', 'thence', 'once', \"'ll\", 'during', 'those', 'thru', 'because', 'namely', 'via', 'thereafter', 'amongst', 'empty', 'seem', 'very', '’ve', 'see', 'becomes', '’re', 'been', 'something', '‘ve', 'toward', 'give', 'who', 'over', 'should', 'in', 'still', 'this', 'all', 'never', 'has', 're', 'mine', 'someone', 'beside', '‘s', 'put', 'ourselves', 'third', 'regarding', 'somehow', 'every', 'twelve', 'out', 'after', 'few', 'whoever', 'yourselves', 'Hello', 'whom', 'of', 'we', 'even', 'three', 'they', 'here', 'before', 'herself', 'my', 'nevertheless', 'too', 'being', 'into', 'ours', 'without', 'anyhow', 'how', 'her', 'their', 'twenty', 'itself', 'against', 'to', 'sometime', 'under', 'hereby', 'it', 'off', 'none', 'since', 'amount', 'behind', 'could', 'was', 'were', 'do', \"'re\", 'whereas', '’d', 'many', 'each', 'n‘t', 'former', 'bottom', 'go', 'alone', 'name', 'throughout', 'me', 'meanwhile', 'at', 'above', 'sometimes', 'then', 'anyway', 'with', 'across', 'there', 'along', 'for', 'unless', 'using', 'noone', \"n't\", 'due', 'whither', 'than', 'must', 'move', 'a', 'themselves', 'by', 'thereby', 'enough', 'now', 'moreover', 'whereafter', '‘re', 'i', 'these', 'myself', 'have', 'first', 'any', 'used', 'its', 'seeming', 'keep', 'anyone', 'be', 'is', 'an', 'further', 'cannot', 'between', \"'d\"}\n"
     ]
    }
   ],
   "source": [
    "print(len(allstopwords))\n",
    "print(allstopwords)"
   ]
  },
  {
   "cell_type": "markdown",
   "metadata": {},
   "source": [
    "## Adding and removing stopwords to spacy stopwords list"
   ]
  },
  {
   "cell_type": "code",
   "execution_count": 33,
   "metadata": {},
   "outputs": [],
   "source": [
    "allstopwords = sp.Defaults.stop_words\n",
    "allstopwords.add(\"channel\")\n",
    "\n",
    "text = \"Hello everyone, welcome all to my youtube channel statistics and data science please subscribe it and hit the bell icon and also share it.\"\n",
    "tokenized_text = word_tokenize(text)\n",
    "tokens_without_stopword = [word for word in tokenized_text if not word in allstopwords]\n",
    "\n"
   ]
  },
  {
   "cell_type": "code",
   "execution_count": 34,
   "metadata": {},
   "outputs": [
    {
     "name": "stdout",
     "output_type": "stream",
     "text": [
      "[',', 'welcome', 'youtube', 'statistics', 'data', 'science', 'subscribe', 'hit', 'bell', 'icon', 'share']\n"
     ]
    }
   ],
   "source": [
    "print(tokens_without_stopwords)"
   ]
  },
  {
   "cell_type": "code",
   "execution_count": 35,
   "metadata": {},
   "outputs": [],
   "source": [
    "allstopwords = {\"welcome\",\"youtube\",}\n",
    "\n",
    "text = \"Hello everyone, welcome all to my youtube channel statistics and data science please subscribe it and hit the bell icon and also share it.\"\n",
    "tokenized_text = word_tokenize(text)\n",
    "tokens_without_stopwords = [word for word in tokenized_text if not word in allstopwords]\n",
    "\n"
   ]
  },
  {
   "cell_type": "code",
   "execution_count": 36,
   "metadata": {},
   "outputs": [
    {
     "name": "stdout",
     "output_type": "stream",
     "text": [
      "['Hello', 'everyone', ',', 'all', 'to', 'my', 'channel', 'statistics', 'and', 'data', 'science', 'please', 'subscribe', 'it', 'and', 'hit', 'the', 'bell', 'icon', 'and', 'also', 'share', 'it', '.']\n"
     ]
    }
   ],
   "source": [
    "print(tokens_without_stopwords)"
   ]
  },
  {
   "cell_type": "code",
   "execution_count": 37,
   "metadata": {},
   "outputs": [],
   "source": [
    "allstopwords = sp.Defaults.stop_words\n",
    "allstopwords.remove('and')\n",
    "\n",
    "text =\"Hello everyone, welcome all of to my youtube channel statistics and data science please subscribe it and hit the bell icon and also share it.\"\n",
    "tokenized_text = word_tokenize(text)\n",
    "tokens_without_stopwords = [word for word in tokenized_text if not word in allstopwords]\n",
    "\n"
   ]
  },
  {
   "cell_type": "code",
   "execution_count": 38,
   "metadata": {},
   "outputs": [
    {
     "name": "stdout",
     "output_type": "stream",
     "text": [
      "[',', 'welcome', 'youtube', 'statistics', 'and', 'data', 'science', 'subscribe', 'and', 'hit', 'bell', 'icon', 'and', 'share', '.']\n"
     ]
    }
   ],
   "source": [
    "print(tokens_without_stopwords)"
   ]
  },
  {
   "cell_type": "markdown",
   "metadata": {},
   "source": [
    "# customized stopwords"
   ]
  },
  {
   "cell_type": "code",
   "execution_count": 39,
   "metadata": {},
   "outputs": [],
   "source": [
    "my_stopwords = ['i', 'me', 'my', 'myself', 'we', 'our', 'ours', 'ourselves', 'you', \"you're\", \n",
    "                \"you've\", \"you'll\", \"you'd\", 'your', 'yours', 'yourself', 'yourselves', 'he', 'him', \n",
    "                'had', 'having', 'do', 'does', 'did', 'doing', 'a', 'an', 'the', 'and', 'but', 'if', 'or', 'because', 'as', \n",
    "                'until', 'while', 'of', 'at', 'by', 'for', 'with', 'about', 'against', 'between', 'into', 'through', \n",
    "                'during', 'before', 'after', 'above', 'below', 'to', 'from', 'up', 'down', 'in', 'out', 'on', 'off',\n",
    "                'didn', \"didn't\", 'doesn', \"doesn't\", 'hadn', \"hadn't\", 'hasn', \"hasn't\", 'haven', \"haven't\", 'isn', \"isn't\",\n",
    "                'ma', 'mightn', \"mightn't\", 'mustn', \"mustn't\", 'needn', \"needn't\", 'shan', \"shan't\", 'shouldn', \"shouldn't\", \n",
    "                'wasn', \"wasn't\", 'weren', \"weren't\", 'won', \"won't\", 'wouldn', \"wouldn't\"]"
   ]
  },
  {
   "cell_type": "code",
   "execution_count": 40,
   "metadata": {},
   "outputs": [],
   "source": [
    "def remove_stopwords(sentence):\n",
    "    tokens = sentence.split(\" \")\n",
    "    tokens_filtered= [word for word in tokens if not word in my_stopwords]\n",
    "    return (\" \").join(tokens_filtered)"
   ]
  },
  {
   "cell_type": "code",
   "execution_count": 41,
   "metadata": {},
   "outputs": [
    {
     "name": "stdout",
     "output_type": "stream",
     "text": [
      "Hello everyone, welcome all youtube channel statistics data science please subscribe it hit bell icon also share it.\n"
     ]
    }
   ],
   "source": [
    "text =\"Hello everyone, welcome all to my youtube channel statistics and data science please subscribe it and hit the bell icon and also share it.\"\n",
    "filtered_text = remove_stopwords(text)\n",
    "print(filtered_text)"
   ]
  },
  {
   "cell_type": "code",
   "execution_count": 42,
   "metadata": {},
   "outputs": [
    {
     "name": "stdout",
     "output_type": "stream",
     "text": [
      "Hello everyone, welcome all youtube channel statistics and data science please subscribe it and hit bell icon and also share it.\n"
     ]
    }
   ],
   "source": [
    "my_stopwords.remove(\"and\")\n",
    "\n",
    "text = \"Hello everyone, welcome all to my youtube channel statistics and data science please subscribe it and hit the bell icon and also share it.\"\n",
    "filtered_text = remove_stopwords(text)\n",
    "print(filtered_text)"
   ]
  },
  {
   "cell_type": "code",
   "execution_count": null,
   "metadata": {},
   "outputs": [],
   "source": []
  },
  {
   "cell_type": "code",
   "execution_count": null,
   "metadata": {},
   "outputs": [],
   "source": []
  }
 ],
 "metadata": {
  "kernelspec": {
   "display_name": "Python 3",
   "language": "python",
   "name": "python3"
  },
  "language_info": {
   "codemirror_mode": {
    "name": "ipython",
    "version": 3
   },
   "file_extension": ".py",
   "mimetype": "text/x-python",
   "name": "python",
   "nbconvert_exporter": "python",
   "pygments_lexer": "ipython3",
   "version": "3.7.4"
  }
 },
 "nbformat": 4,
 "nbformat_minor": 2
}
